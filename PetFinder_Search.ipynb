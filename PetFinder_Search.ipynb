{
  "nbformat": 4,
  "nbformat_minor": 0,
  "metadata": {
    "colab": {
      "name": "PetFinder_Search.ipynb",
      "provenance": [],
      "collapsed_sections": []
    },
    "kernelspec": {
      "name": "python3",
      "display_name": "Python 3"
    }
  },
  "cells": [
    {
      "cell_type": "markdown",
      "metadata": {
        "id": "tcHQ0XRaLV1L"
      },
      "source": [
        "Uses PetFinder developer's API key to search and download pet data from https://www.petfinder.com/. Extract relevant information and save to csv file for analysis. "
      ]
    },
    {
      "cell_type": "code",
      "metadata": {
        "id": "lFLQBpVDdnVP"
      },
      "source": [
        "import requests\n",
        "import json \n",
        "import csv \n",
        "import pandas as pd\n",
        "from datetime import datetime, timedelta"
      ],
      "execution_count": 3,
      "outputs": []
    },
    {
      "cell_type": "code",
      "metadata": {
        "id": "F5bTAUWNLo8W"
      },
      "source": [
        "## Get API key and secret from https://www.petfinder.com/user/developer-settings/\n",
        "## Need to get new api key if inactive for 120 days\n",
        "## Documentation: https://www.petfinder.com/developers/v2/docs/\n",
        "\n",
        "petFinder_api_key = 'sVaWSBbHIblMHVWKtm17K1P7vUTgzt1rtjNqHxZAsc9XCC0YXH'\n",
        "petFinder_secret = 'Sxbed7XtmZ0TLeT4r4OB8hREp6uWcBWfPnf09N4i'\n",
        "\n",
        "data_dir = '/content/drive/My Drive/Data_Science_Projects/PetFinder/'"
      ],
      "execution_count": 4,
      "outputs": []
    },
    {
      "cell_type": "code",
      "metadata": {
        "id": "UQntTkAZc1gq"
      },
      "source": [
        "def get_auth_token_header():\n",
        "  client_id = petFinder_api_key \n",
        "  client_secret = petFinder_secret \n",
        "\n",
        "  #scope = \"appstore::apps:readwrite\"\n",
        "  grant_type = \"client_credentials\"\n",
        "  data = {\n",
        "      \"grant_type\": grant_type,\n",
        "      \"client_id\": client_id,\n",
        "      \"client_secret\": client_secret\n",
        "  }\n",
        "  petfinder_auth_url = \"https://api.petfinder.com/v2/oauth2/token\"\n",
        "  auth_response = requests.post(petfinder_auth_url, data=data)\n",
        "\n",
        "  # Read token from auth response\n",
        "  auth_response_json = auth_response.json()\n",
        "  auth_token = auth_response_json[\"access_token\"]\n",
        "  auth_token_header_value = \"Bearer %s\" % auth_token\n",
        "  auth_token_header = {\"Authorization\": auth_token_header_value}\n",
        "\n",
        "  return auth_token_header"
      ],
      "execution_count": 5,
      "outputs": []
    },
    {
      "cell_type": "code",
      "metadata": {
        "id": "K9x1HGG-M14U"
      },
      "source": [
        "##Search for adopted pet profiles that are more than 1 day old\n",
        "#search_day = datetime.today() - timedelta(days=1)\n",
        "#search_day = str(day.isoformat())\n",
        "#print(search_day)"
      ],
      "execution_count": null,
      "outputs": []
    },
    {
      "cell_type": "code",
      "metadata": {
        "id": "NXdkHY3be2Fy"
      },
      "source": [
        "def get_data(url,auth_token_header):\n",
        "\n",
        "  response = requests.get(url, headers=auth_token_header)\n",
        "  response_json = response.json()\n",
        "\n",
        "  return response_json"
      ],
      "execution_count": 6,
      "outputs": []
    },
    {
      "cell_type": "code",
      "metadata": {
        "id": "OMQAu6abpfKv"
      },
      "source": [
        "pet_columns = ['age', 'declawed', 'house_trained', 'shots_current', 'spayed_neutered', 'special_needs',\n",
        "               'breed_mixed', 'breed_primary', 'breed_secondary', 'breed_unknown', 'size',\n",
        "               'coat', 'color_primary', 'color_secondary', 'description',\n",
        "               'good_with_cats', 'good_with_children', 'good_with_dogs',\n",
        "               'gender','id','organization_id', 'status',\n",
        "               'publish_date','status_change_date','time_to_adoption']\n",
        "\n",
        "pets_df = pd.DataFrame(columns=pet_columns)"
      ],
      "execution_count": 7,
      "outputs": []
    },
    {
      "cell_type": "code",
      "metadata": {
        "id": "GllH3t_TmZ4f"
      },
      "source": [
        "pet_dict = {\n",
        "  \"age\": \"None\",\n",
        "  \"declawed\": False,\n",
        "  \"house_trained\": False,\n",
        "  \"shots_current\": False,\n",
        "  \"spayed_neutered\": False,\n",
        "  \"special_needs\": False,\n",
        "  \"breed_mixed\": True,\n",
        "  \"breed_primary\": \"None\",\n",
        "  \"breed_secondary\": \"None\",\n",
        "  \"breed_unknown\": False,\n",
        "  \"size\": \"None\",\n",
        "  \"coat\": \"None\",\n",
        "  \"color_primary\": \"None\",\n",
        "  \"color_secondary\": \"None\",\n",
        "  \"description\": \"None\",\n",
        "  \"good_with_cats\": False,\n",
        "  \"good_with_children\": False,\n",
        "  \"good_with_dogs\": False,\n",
        "  \"gender\": \"None\",\n",
        "  \"id\": \"None\",\n",
        "  \"organization_id\": \"None\",\n",
        "  \"status\": \"None\",\n",
        "  \"publish_date\": \"0000\",\n",
        "  \"status_change_date\": \"0000\",\n",
        "  \"time_to_adoption\": 1\n",
        "}"
      ],
      "execution_count": 8,
      "outputs": []
    },
    {
      "cell_type": "code",
      "metadata": {
        "id": "f0DR0wN-hopZ"
      },
      "source": [
        "def get_animal_attributes(data_json_object, pets_df, pet_dict):\n",
        "  \n",
        "  pets = pets_df\n",
        "  now = datetime.now()\n",
        "\n",
        "  for i in range(len(data_json_object['animals'])):\n",
        "    \n",
        "    thispet = pet_dict\n",
        "    \n",
        "    try:\n",
        "      thispet[\"age\"] = data_json_object['animals'][i]['age']\n",
        "      thispet[\"declawed\"] = data_json_object['animals'][i]['attributes']['declawed']\n",
        "      thispet[\"house_trained\"] = data_json_object['animals'][i]['attributes']['house_trained']\n",
        "      thispet[\"shots_current\"] = data_json_object['animals'][i]['attributes']['shots_current']\n",
        "      thispet[\"spayed_neutered\"] = data_json_object['animals'][i]['attributes']['spayed_neutered']\n",
        "      thispet[\"special_needs\"] = data_json_object['animals'][i]['attributes']['special_needs']\n",
        "      thispet[\"breed_mixed\"] = data_json_object['animals'][i]['breeds']['mixed']\n",
        "      thispet[\"breed_primary\"] = data_json_object['animals'][i]['breeds']['primary']\n",
        "      thispet[\"breed_secondary\"] = data_json_object['animals'][i]['breeds']['secondary']\n",
        "      thispet[\"breed_unknown\"] = data_json_object['animals'][i]['breeds']['unknown']\n",
        "      thispet[\"size\"] = data_json_object['animals'][i]['size']\n",
        "      thispet[\"coat\"] = data_json_object['animals'][i]['coat']\n",
        "      thispet[\"color_primary\"] = data_json_object['animals'][i]['colors']['primary']\n",
        "      thispet[\"color_secondary\"] = data_json_object['animals'][i]['colors']['secondary']\n",
        "      thispet[\"description\"] = data_json_object['animals'][i]['description']\n",
        "      thispet[\"good_with_cats\"] = data_json_object['animals'][i]['environment']['cats']\n",
        "      thispet[\"good_with_children\"] = data_json_object['animals'][i]['environment']['children']\n",
        "      thispet[\"good_with_dogs\"] = data_json_object['animals'][i]['environment']['dogs']\n",
        "      thispet[\"gender\"] = data_json_object['animals'][i]['gender']\n",
        "      thispet[\"id\"] = data_json_object['animals'][i]['id']\n",
        "      thispet[\"organization_id\"] = data_json_object['animals'][i]['organization_id']\n",
        "\n",
        "      status = data_json_object['animals'][i]['status']\n",
        "      publish_date = datetime.strptime(data_json_object['animals'][i]['published_at'], \"%Y-%m-%dT%H:%M:%S+0000\")\n",
        "      status_change_date = datetime.strptime(data_json_object['animals'][i]['status_changed_at'], \"%Y-%m-%dT%H:%M:%S+0000\")\n",
        "      thispet[\"status\"] = status\n",
        "      thispet[\"publish_date\"] = publish_date\n",
        "      thispet[\"status_change_date\"] = status_change_date\n",
        "\n",
        "      if status == \"adopted\":\n",
        "        time_to_adoption = status_change_date - publish_date\n",
        "      if status == \"adoptable\":\n",
        "        time_to_adoption = now - publish_date\n",
        "\n",
        "      thispet[\"time_to_adoption\"] = time_to_adoption.days \n",
        "\n",
        "      pets = pets.append(thispet, ignore_index=True)\n",
        "\n",
        "    except:\n",
        "      print('Error occured at ', i)\n",
        "    \n",
        "  return pets"
      ],
      "execution_count": 10,
      "outputs": []
    },
    {
      "cell_type": "code",
      "metadata": {
        "id": "x5D8KjaDwfZg"
      },
      "source": [
        "## Get authentication token (need to renew every hour)\n",
        "auth_token_header = get_auth_token_header()\n",
        "\n",
        "## Do search in 20-page increments \n",
        "## Append results to csv file\n",
        "n_pages = 20\n",
        "n_iter = 8   ## Last search n_iter = 8\n",
        "\n",
        "## Initialize my_pet_df\n",
        "my_pet_df = pets_df\n",
        "\n",
        "for i in range(n_pages):\n",
        "  zipcode = '91006' # Use a California zipcode for now\n",
        "  pagenum = i + 1 + (n_iter * n_pages) # Compute page number\n",
        "  status = \"adopted\"\n",
        "\n",
        "  ## Make URL\n",
        "  BASE_URL = \"https://api.petfinder.com/v2/\"\n",
        "  url = BASE_URL+'animals?limit=100&type=cat&location='+zipcode+'&status='+status+'&page='+str(int(pagenum))\n",
        "\n",
        "  ## Get data\n",
        "  response = get_data(url, auth_token_header)\n",
        "  current_pet_df = get_animal_attributes(response, pets_df, pet_dict)\n",
        "\n",
        "  ## Append to my_pet_df dataframe\n",
        "  my_pet_df = my_pet_df.append(current_pet_df)"
      ],
      "execution_count": 19,
      "outputs": []
    },
    {
      "cell_type": "code",
      "metadata": {
        "id": "JF0R4jWJzTjq"
      },
      "source": [
        "csv_name = data_dir+'Adopted_pets.csv'\n",
        "\n",
        "## Filter out the profiles with the same publish and status change date\n",
        "## Profile likely removed and re-published once the pet is adopted\n",
        "my_pet_df_filtered = my_pet_df[my_pet_df['time_to_adoption'] > 0] \n",
        "\n",
        "## Use first dataframe (n_iter = 0) to create csv\n",
        "#my_pet_df_filtered.to_csv(csv_name)\n",
        "\n",
        "## Append the subsequent csv (n_iter > 0)\n",
        "with open(csv_name, 'a') as f:\n",
        "    my_pet_df_filtered.to_csv(f, header=False)"
      ],
      "execution_count": 21,
      "outputs": []
    }
  ]
}